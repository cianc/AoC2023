{
  "nbformat": 4,
  "nbformat_minor": 0,
  "metadata": {
    "colab": {
      "provenance": [],
      "authorship_tag": "ABX9TyOvC8/3hWFnooUbh1E6K626",
      "include_colab_link": true
    },
    "kernelspec": {
      "name": "python3",
      "display_name": "Python 3"
    },
    "language_info": {
      "name": "python"
    }
  },
  "cells": [
    {
      "cell_type": "markdown",
      "metadata": {
        "id": "view-in-github",
        "colab_type": "text"
      },
      "source": [
        "<a href=\"https://colab.research.google.com/github/cianc/AoC2023/blob/main/day09.ipynb\" target=\"_parent\"><img src=\"https://colab.research.google.com/assets/colab-badge.svg\" alt=\"Open In Colab\"/></a>"
      ]
    },
    {
      "cell_type": "code",
      "execution_count": 36,
      "metadata": {
        "id": "Vrx0TlYZFJvO"
      },
      "outputs": [],
      "source": [
        "TEST = False #@param {type: \"boolean\"}\n",
        "TEST_INPUT = 'day9_test1.txt'\n",
        "INPUT = 'day9_input1.txt'\n",
        "PART=2 #@param {type: \"integer\"}\n"
      ]
    },
    {
      "cell_type": "code",
      "source": [
        "import math\n",
        "import re\n",
        "import time\n",
        "\n",
        "def get_input() -> list[str]:\n",
        "  input = TEST_INPUT if TEST else INPUT\n",
        "\n",
        "  with open(input, 'r') as f:\n",
        "    rows = f.read().splitlines()\n",
        "  return rows\n",
        "\n",
        "def parse_report(rows: list[str]) -> list[list[int]]:\n",
        "  report = []\n",
        "\n",
        "  for row in rows:\n",
        "    report.append([int(r) for r in row.split()])\n",
        "\n",
        "  return report\n",
        "\n",
        "def add_predictions(report: list[list[int]], direction: str) -> list[list[int]]:\n",
        "  updated_report = []\n",
        "  for history in report:\n",
        "    diffs = [history]\n",
        "    while True:\n",
        "      diff = [(b - a) for a, b in zip(history, history[1:])]\n",
        "      diffs.append(diff)\n",
        "      history=diff\n",
        "      if not any(diff):\n",
        "        break\n",
        "    if direction == \"forwards\":\n",
        "      # Append a zero to the last line\n",
        "      diffs[-1].append(0)\n",
        "      # Now iterate back up the stack\n",
        "      for i in range(len(diffs) - 2, -1, -1):\n",
        "        diffs[i].append(diffs[i][-1] + diffs[i+1][-1])\n",
        "      updated_report.append(diffs[0])\n",
        "    else:\n",
        "      # Prepend a zero to the last line\n",
        "      diffs[-1].insert(0, 0)\n",
        "      # Now iterate back up the stack\n",
        "      for i in range(len(diffs) - 2, -1, -1):\n",
        "        diffs[i].insert(0, (diffs[i][0] - diffs[i+1][0]))\n",
        "      updated_report.append(diffs[0])\n",
        "  return updated_report\n",
        "\n",
        "input = get_input()\n",
        "report = parse_report(input)\n",
        "\n",
        "start_time = time.time()\n",
        "updated_report = add_predictions(report, \"forwards\" if PART == 1 else \"backwards\")\n",
        "if PART == 1:\n",
        "  print(f'answer: {sum([history[-1] for history in updated_report])}')\n",
        "else:\n",
        "  print(f'answer: {sum([history[0] for history in updated_report])}')\n",
        "end_time = time.time()\n",
        "print(f'run time: {end_time - start_time} (s)')"
      ],
      "metadata": {
        "id": "yEKHeuXrrq6Y"
      },
      "execution_count": null,
      "outputs": []
    }
  ]
}