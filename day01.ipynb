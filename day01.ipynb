{
  "nbformat": 4,
  "nbformat_minor": 0,
  "metadata": {
    "colab": {
      "provenance": [],
      "authorship_tag": "ABX9TyPmKnGxcIyNjyGFd5oeTbF7",
      "include_colab_link": true
    },
    "kernelspec": {
      "name": "python3",
      "display_name": "Python 3"
    },
    "language_info": {
      "name": "python"
    }
  },
  "cells": [
    {
      "cell_type": "markdown",
      "metadata": {
        "id": "view-in-github",
        "colab_type": "text"
      },
      "source": [
        "<a href=\"https://colab.research.google.com/github/cianc/AoC2023/blob/main/day01.ipynb\" target=\"_parent\"><img src=\"https://colab.research.google.com/assets/colab-badge.svg\" alt=\"Open In Colab\"/></a>"
      ]
    },
    {
      "cell_type": "markdown",
      "source": [
        "Initial version used a non-overlapping regex which returned a value that was too low. For example '126dzbvg6two4oneightntd' would be interpreted as 11 because 'oneeight' is interpreted as one,ight. Switching to an overlapping match returns '18."
      ],
      "metadata": {
        "id": "eOWCDSWsLPPM"
      }
    },
    {
      "cell_type": "code",
      "execution_count": 42,
      "metadata": {
        "id": "Vrx0TlYZFJvO"
      },
      "outputs": [],
      "source": [
        "DRIVE_PATH = '/content/drive/'\n",
        "AOC_DRIVE_PATH = DRIVE_PATH + 'My Drive/AoC2023/'\n",
        "\n",
        "PART = 2 #@param {type: \"integer\"}\n",
        "TEST = False #@param {type: \"boolean\"}\n",
        "\n",
        "TEST_INPUT_1 = AOC_DRIVE_PATH + 'day01_test1.txt'\n",
        "TEST_INPUT_2 = AOC_DRIVE_PATH + 'day01_test2.txt'\n",
        "INPUT_1 = AOC_DRIVE_PATH + 'day01_1.txt'\n",
        "INPUT_2 = AOC_DRIVE_PATH + 'day01_2.txt'\n",
        "\n"
      ]
    },
    {
      "cell_type": "code",
      "source": [
        "import re\n",
        "from google.colab import drive\n",
        "\n",
        "def get_lines() -> list[str]:\n",
        "  drive.mount(DRIVE_PATH, force_remount=True, readonly=True)\n",
        "  if TEST:\n",
        "    if PART == 1:\n",
        "      INPUT = TEST_INPUT_1\n",
        "    else:\n",
        "      INPUT = TEST_INPUT_2\n",
        "  else:\n",
        "    if PART == 1:\n",
        "      INPUT = INPUT_1\n",
        "    else:\n",
        "      INPUT = INPUT_2\n",
        "\n",
        "  with open(INPUT, 'r') as f:\n",
        "    lines = f.read().splitlines()\n",
        "  return lines\n",
        "\n",
        "def number_string_to_digit(matchobj: re.Match) -> str:\n",
        "  match matchobj.group(1):\n",
        "    case 'one': return '1'\n",
        "    case 'two': return '2'\n",
        "    case 'three': return '3'\n",
        "    case 'four': return '4'\n",
        "    case 'five': return '5'\n",
        "    case 'six': return '6'\n",
        "    case 'seven': return '7'\n",
        "    case 'eight': return '8'\n",
        "    case 'nine': return '9'\n",
        "    case _: raise ValueError\n",
        "\n",
        "def digitise_line(line: str) -> str:\n",
        "  # We use a lookahead to simulate an overlapping regex match.\n",
        "  # See https://stackoverflow.com/questions/5616822/how-to-use-regex-to-find-all-overlapping-matches\n",
        "  # Note that the re.sub() inserts the numerical value while leaving the string\n",
        "  # in place, but that's fine for our purposes.\n",
        "  number_regex = r'(?=(one|two|three|four|five|six|seven|eight|nine))'\n",
        "  return re.sub(number_regex, number_string_to_digit, line)\n",
        "\n",
        "calibration_sum = 0\n",
        "for line in get_lines():\n",
        "  if PART == 2:\n",
        "    line = digitise_line(line)\n",
        "\n",
        "  first_digit_as_char = None\n",
        "  last_digit_as_char = None\n",
        "  for c in line:\n",
        "    if c.isnumeric():\n",
        "      if first_digit_as_char == None:\n",
        "        first_digit_as_char = last_digit_as_char = c\n",
        "      else:\n",
        "        last_digit_as_char = c\n",
        "  calibration_value = int(first_digit_as_char + last_digit_as_char)\n",
        "  calibration_sum += calibration_value\n",
        "\n",
        "print(calibration_sum)\n"
      ],
      "metadata": {
        "colab": {
          "base_uri": "https://localhost:8080/"
        },
        "id": "yEKHeuXrrq6Y",
        "outputId": "7db18e1e-5830-4bb4-979d-7419a5cf2f5c"
      },
      "execution_count": 43,
      "outputs": [
        {
          "output_type": "stream",
          "name": "stdout",
          "text": [
            "Mounted at /content/drive/\n",
            "57345\n"
          ]
        }
      ]
    }
  ]
}