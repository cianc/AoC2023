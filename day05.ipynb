{
  "nbformat": 4,
  "nbformat_minor": 0,
  "metadata": {
    "colab": {
      "provenance": [],
      "authorship_tag": "ABX9TyN7FJ1Smtnv3noCblHQlYAa",
      "include_colab_link": true
    },
    "kernelspec": {
      "name": "python3",
      "display_name": "Python 3"
    },
    "language_info": {
      "name": "python"
    }
  },
  "cells": [
    {
      "cell_type": "markdown",
      "metadata": {
        "id": "view-in-github",
        "colab_type": "text"
      },
      "source": [
        "<a href=\"https://colab.research.google.com/github/cianc/AoC2023/blob/main/day05.ipynb\" target=\"_parent\"><img src=\"https://colab.research.google.com/assets/colab-badge.svg\" alt=\"Open In Colab\"/></a>"
      ]
    },
    {
      "cell_type": "code",
      "execution_count": 48,
      "metadata": {
        "id": "Vrx0TlYZFJvO"
      },
      "outputs": [],
      "source": [
        "TEST = False #@param {type: \"boolean\"}\n",
        "TEST_INPUT = 'day5_test1.txt'\n",
        "INPUT = 'day5_input1.txt'\n",
        "\n"
      ]
    },
    {
      "cell_type": "code",
      "source": [
        "import re\n",
        "import time\n",
        "from dataclasses import dataclass\n",
        "\n",
        "@dataclass\n",
        "class SupplyMapping:\n",
        "  src_start: int\n",
        "  dst_start: int\n",
        "  range_length: int\n",
        "\n",
        "def parse_almanac() -> tuple[list[int], dict[tuple[str, str], list[SupplyMapping]]]:\n",
        "  input = TEST_INPUT if TEST else INPUT\n",
        "  with open(input, 'r') as f:\n",
        "    rows = f.read().splitlines()\n",
        "\n",
        "  supply_mappings = {}\n",
        "\n",
        "  seeds_regex = r'^seeds: (( *\\d+ *)+)$'\n",
        "  m = re.match(seeds_regex, rows[0])\n",
        "  seeds = [int(s) for s in m.group(1).split()]\n",
        "\n",
        "  category_name_regex = r'^([a-zA-Z]+)-to-([a-zA-Z]+) map:$'\n",
        "  category_map_regex = r'^(( *\\d+ *)+)$'\n",
        "  row_index = 1\n",
        "  while row_index < len(rows):\n",
        "    m = re.match(category_name_regex, rows[row_index])\n",
        "    row_index +=1\n",
        "    if not m:\n",
        "      continue\n",
        "\n",
        "    src_type = m.group(1)\n",
        "    dst_type = m.group(2)\n",
        "    mapping_key = (src_type,  dst_type)\n",
        "    reverse_mapping_key = mapping_key[::-1]\n",
        "    supply_mappings.setdefault(mapping_key, [])\n",
        "\n",
        "    while row_index < len(rows):\n",
        "      m = re.match(category_map_regex, rows[row_index])\n",
        "      row_index +=1\n",
        "      if not m:\n",
        "        break\n",
        "\n",
        "      dst_start, src_start, range_length = [int(m) for m in m.group(1).split()]\n",
        "      supply_mappings[mapping_key].append(\n",
        "          SupplyMapping(src_start, dst_start, range_length))\n",
        "\n",
        "  return seeds, supply_mappings\n",
        "\n",
        "def from_src_to_dst(src_name: str, src_id: int, dst_name: str, supply_mappings: dict[tuple[str,str], list[SupplyMapping]]) -> int:\n",
        "  seen_supplies = []\n",
        "  while True:\n",
        "    mapping_keys = [k for k in supply_mappings.keys() if k[0] == (src_name) and k[1] not in seen_supplies]\n",
        "    mapping_key = mapping_keys[0]\n",
        "    temp_dst_name = mapping_key[1]\n",
        "    seen_supplies.append(src_name)\n",
        "\n",
        "    for supply_mapping in supply_mappings[mapping_key]:\n",
        "      if src_id in range(supply_mapping.src_start, supply_mapping.src_start+supply_mapping.range_length):\n",
        "        dst_id = supply_mapping.dst_start + (src_id - supply_mapping.src_start)\n",
        "        if temp_dst_name == dst_name:\n",
        "          return dst_id\n",
        "        else:\n",
        "          src_name = temp_dst_name\n",
        "          src_id = dst_id\n",
        "          break\n",
        "    # If we fall off the end of the for loop it's because there was no match\n",
        "    # for src_id and we should resuse src_id for the next supply.\n",
        "    src_name = temp_dst_name\n",
        "    # Return if we've reached the supply we care about.\n",
        "    if src_name == dst_name:\n",
        "      return src_id\n",
        "\n",
        "\n",
        "seeds, supply_mappings = parse_almanac()\n",
        "print(f'min_location: {min([from_src_to_dst(\"seed\", seed, \"location\", supply_mappings) for seed in seeds])}')\n",
        "\n"
      ],
      "metadata": {
        "id": "yEKHeuXrrq6Y"
      },
      "execution_count": null,
      "outputs": []
    },
    {
      "cell_type": "code",
      "source": [],
      "metadata": {
        "id": "yc-bXwFLYMoB"
      },
      "execution_count": null,
      "outputs": []
    }
  ]
}