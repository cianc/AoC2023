{
  "nbformat": 4,
  "nbformat_minor": 0,
  "metadata": {
    "colab": {
      "provenance": [],
      "authorship_tag": "ABX9TyOhCqD66TfvkpwlSafHOYt8",
      "include_colab_link": true
    },
    "kernelspec": {
      "name": "python3",
      "display_name": "Python 3"
    },
    "language_info": {
      "name": "python"
    }
  },
  "cells": [
    {
      "cell_type": "markdown",
      "metadata": {
        "id": "view-in-github",
        "colab_type": "text"
      },
      "source": [
        "<a href=\"https://colab.research.google.com/github/cianc/AoC2023/blob/main/day02.ipynb\" target=\"_parent\"><img src=\"https://colab.research.google.com/assets/colab-badge.svg\" alt=\"Open In Colab\"/></a>"
      ]
    },
    {
      "cell_type": "markdown",
      "source": [
        "1122 is too low"
      ],
      "metadata": {
        "id": "xASKD2r3cQ3q"
      }
    },
    {
      "cell_type": "markdown",
      "source": [
        "Initial version used a non-overlapping regex which returned a value that was too low. For example '126dzbvg6two4oneightntd' would be interpreted as 11 because 'oneeight' is interpreted as one,ight. Switching to an overlapping match returns '18."
      ],
      "metadata": {
        "id": "eOWCDSWsLPPM"
      }
    },
    {
      "cell_type": "code",
      "execution_count": 84,
      "metadata": {
        "id": "Vrx0TlYZFJvO"
      },
      "outputs": [],
      "source": [
        "PART = 1 #@param {type: \"integer\"}\n",
        "TEST = False #@param {type: \"boolean\"}\n",
        "\n",
        "TEST_INPUT_1 = 'day02_test1.txt'\n",
        "TEST_INPUT_2 = 'day02_test2.txt'\n",
        "INPUT_1 = 'day02_1.txt'\n",
        "INPUT_2 = 'day02_2.txt'\n",
        "\n"
      ]
    },
    {
      "cell_type": "code",
      "source": [
        "import re\n",
        "from google.colab import drive\n",
        "\n",
        "def get_games() -> list[str]:\n",
        "  games = []\n",
        "  if TEST:\n",
        "    input = TEST_INPUT_1 if PART == 1 else TEST_INPUT_2\n",
        "  else:\n",
        "    input = INPUT_1 if PART == 1 else INPUT_2\n",
        "  with open(input, 'r') as f:\n",
        "    lines = f.read().splitlines()\n",
        "\n",
        "  for line in lines:\n",
        "    game = []\n",
        "    line = re.sub(r'Game \\d: ', '', line)\n",
        "    reveals = line.split(';')\n",
        "    for r in reveals:\n",
        "      reveal = {}\n",
        "      for colour in ['red', 'green', 'blue']:\n",
        "        match = re.search(r'(\\d+) %s' % colour, r)\n",
        "        reveal[colour] = int(match.group(1)) if match else 0\n",
        "      game.append(reveal)\n",
        "\n",
        "    games.append(game)\n",
        "  return games\n",
        "\n",
        "def is_game_possible(limits: tuple, game: list) -> bool:\n",
        "  if not all([r['red'] <= limits[0] and r['green'] <= limits[1] and r['blue'] <= limits[2] for r in game]):\n",
        "    return False\n",
        "  return True\n",
        "\n",
        "sum_of_possible_ids = 0\n",
        "for i, game in enumerate(get_games()):\n",
        "  if is_game_possible((12, 13, 14), game):\n",
        "    sum_of_possible_ids += (i+1)\n",
        "print(sum_of_possible_ids)"
      ],
      "metadata": {
        "colab": {
          "base_uri": "https://localhost:8080/"
        },
        "id": "yEKHeuXrrq6Y",
        "outputId": "d690d884-3587-46dc-d8d4-ea9fe75d60ab"
      },
      "execution_count": 87,
      "outputs": [
        {
          "output_type": "stream",
          "name": "stdout",
          "text": [
            "2528\n"
          ]
        }
      ]
    },
    {
      "cell_type": "code",
      "source": [],
      "metadata": {
        "id": "yc-bXwFLYMoB"
      },
      "execution_count": null,
      "outputs": []
    }
  ]
}