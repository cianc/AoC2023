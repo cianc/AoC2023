{
  "nbformat": 4,
  "nbformat_minor": 0,
  "metadata": {
    "colab": {
      "provenance": [],
      "authorship_tag": "ABX9TyNYvfR7MvWGrzyzebnZPRmg",
      "include_colab_link": true
    },
    "kernelspec": {
      "name": "python3",
      "display_name": "Python 3"
    },
    "language_info": {
      "name": "python"
    }
  },
  "cells": [
    {
      "cell_type": "markdown",
      "metadata": {
        "id": "view-in-github",
        "colab_type": "text"
      },
      "source": [
        "<a href=\"https://colab.research.google.com/github/cianc/AoC2023/blob/main/day02.ipynb\" target=\"_parent\"><img src=\"https://colab.research.google.com/assets/colab-badge.svg\" alt=\"Open In Colab\"/></a>"
      ]
    },
    {
      "cell_type": "markdown",
      "source": [
        "1122 is too low"
      ],
      "metadata": {
        "id": "xASKD2r3cQ3q"
      }
    },
    {
      "cell_type": "markdown",
      "source": [
        "Initial version used a non-overlapping regex which returned a value that was too low. For example '126dzbvg6two4oneightntd' would be interpreted as 11 because 'oneeight' is interpreted as one,ight. Switching to an overlapping match returns '18."
      ],
      "metadata": {
        "id": "eOWCDSWsLPPM"
      }
    },
    {
      "cell_type": "code",
      "execution_count": 88,
      "metadata": {
        "id": "Vrx0TlYZFJvO"
      },
      "outputs": [],
      "source": [
        "PART = 1 #@param {type: \"integer\"}\n",
        "TEST = True #@param {type: \"boolean\"}\n",
        "\n",
        "TEST_INPUT = 'day02_test1.txt'\n",
        "INPUT = 'day02_1.txt'\n",
        "\n"
      ]
    },
    {
      "cell_type": "code",
      "source": [
        "import math\n",
        "import re\n",
        "from google.colab import drive\n",
        "\n",
        "def get_games() -> list[str]:\n",
        "  games = []\n",
        "  input = TEST_INPUT if TEST else INPUT\n",
        "  with open(input, 'r') as f:\n",
        "    lines = f.read().splitlines()\n",
        "\n",
        "  for line in lines:\n",
        "    game = []\n",
        "    line = re.sub(r'Game \\d: ', '', line)\n",
        "    reveals = line.split(';')\n",
        "    for r in reveals:\n",
        "      reveal = {}\n",
        "      for colour in ['red', 'green', 'blue']:\n",
        "        match = re.search(r'(\\d+) %s' % colour, r)\n",
        "        reveal[colour] = int(match.group(1)) if match else 0\n",
        "      game.append(reveal)\n",
        "\n",
        "    games.append(game)\n",
        "  return games\n",
        "\n",
        "def is_game_possible(limits: tuple, game: list) -> bool:\n",
        "  if not all([r['red'] <= limits[0] and r['green'] <= limits[1] and r['blue'] <= limits[2] for r in game]):\n",
        "    return False\n",
        "  return True\n",
        "\n",
        "def get_min_cubes(game: list) -> tuple[int]:\n",
        "  min_red = min_green = min_blue = 0\n",
        "\n",
        "  min_red = max([r['red'] for r in game])\n",
        "  min_green = max([r['green'] for r in game])\n",
        "  min_blue = max([r['blue'] for r in game])\n",
        "\n",
        "  return (min_red, min_green, min_blue)\n",
        "\n",
        "\n",
        "sum_of_possible_ids = 0\n",
        "games = get_games()\n",
        "\n",
        "for i, game in enumerate(games):\n",
        "  if is_game_possible((12, 13, 14), game):\n",
        "    sum_of_possible_ids += (i+1)\n",
        "print(f\"sum_of_possible_ids: {sum_of_possible_ids}\")\n",
        "\n",
        "sum_of_powers = 0\n",
        "for game in games:\n",
        "  min_cubes = get_min_cubes(game)\n",
        "  sum_of_powers += math.prod(min_cubes)\n",
        "print(f\"sum_of_powers: {sum_of_powers}\")\n",
        "\n"
      ],
      "metadata": {
        "colab": {
          "base_uri": "https://localhost:8080/"
        },
        "id": "yEKHeuXrrq6Y",
        "outputId": "7e3ebfe5-d9b7-4809-d59c-601de26b79cb"
      },
      "execution_count": 93,
      "outputs": [
        {
          "output_type": "stream",
          "name": "stdout",
          "text": [
            "sum_of_possible_ids: 2528\n",
            "sum_of_powers: 67363\n"
          ]
        }
      ]
    },
    {
      "cell_type": "code",
      "source": [],
      "metadata": {
        "id": "yc-bXwFLYMoB"
      },
      "execution_count": null,
      "outputs": []
    }
  ]
}