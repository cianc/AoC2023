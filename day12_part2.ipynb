{
  "cells": [
    {
      "cell_type": "markdown",
      "metadata": {
        "id": "view-in-github",
        "colab_type": "text"
      },
      "source": [
        "<a href=\"https://colab.research.google.com/github/cianc/AoC2023/blob/main/day12_part2.ipynb\" target=\"_parent\"><img src=\"https://colab.research.google.com/assets/colab-badge.svg\" alt=\"Open In Colab\"/></a>"
      ]
    },
    {
      "cell_type": "code",
      "execution_count": 2,
      "metadata": {
        "id": "8kLfsIxGR85B",
        "colab": {
          "base_uri": "https://localhost:8080/"
        },
        "outputId": "fbf8e450-a691-4513-a400-ff14bbcdde57"
      },
      "outputs": [
        {
          "output_type": "stream",
          "name": "stdout",
          "text": [
            "\u001b[?25l     \u001b[90m━━━━━━━━━━━━━━━━━━━━━━━━━━━━━━━━━━━━━━━━\u001b[0m \u001b[32m0.0/1.6 MB\u001b[0m \u001b[31m?\u001b[0m eta \u001b[36m-:--:--\u001b[0m\r\u001b[2K     \u001b[91m━━\u001b[0m\u001b[91m╸\u001b[0m\u001b[90m━━━━━━━━━━━━━━━━━━━━━━━━━━━━━━━━━━━━━\u001b[0m \u001b[32m0.1/1.6 MB\u001b[0m \u001b[31m3.4 MB/s\u001b[0m eta \u001b[36m0:00:01\u001b[0m\r\u001b[2K     \u001b[91m━━━━━━━━━━━━━━━━━━━━━━━━━━━━\u001b[0m\u001b[91m╸\u001b[0m\u001b[90m━━━━━━━━━━━\u001b[0m \u001b[32m1.1/1.6 MB\u001b[0m \u001b[31m16.6 MB/s\u001b[0m eta \u001b[36m0:00:01\u001b[0m\r\u001b[2K     \u001b[90m━━━━━━━━━━━━━━━━━━━━━━━━━━━━━━━━━━━━━━━━\u001b[0m \u001b[32m1.6/1.6 MB\u001b[0m \u001b[31m17.6 MB/s\u001b[0m eta \u001b[36m0:00:00\u001b[0m\n",
            "\u001b[?25h"
          ]
        }
      ],
      "source": [
        "!pip install -Uqq ipdb"
      ]
    },
    {
      "cell_type": "code",
      "execution_count": 75,
      "metadata": {
        "id": "Vrx0TlYZFJvO"
      },
      "outputs": [],
      "source": [
        "TEST = False #@param {type: \"boolean\"}\n",
        "TEST_INPUT1 = 'day12_test1.txt'\n",
        "TEST_INPUT2 = 'day12_test1.txt'\n",
        "INPUT = 'day12_input1.txt'\n",
        "PART=2 #@param {type: \"integer\"}"
      ]
    },
    {
      "cell_type": "code",
      "execution_count": null,
      "metadata": {
        "id": "yEKHeuXrrq6Y"
      },
      "outputs": [],
      "source": [
        "import ipdb\n",
        "import functools\n",
        "import re\n",
        "import time\n",
        "\n",
        "\n",
        "def get_input() -> list[str]:\n",
        "  if PART == 1:\n",
        "    input = TEST_INPUT1 if TEST else INPUT\n",
        "  else:\n",
        "    input = TEST_INPUT2 if TEST else INPUT\n",
        "\n",
        "  with open(input, 'r') as f:\n",
        "    rows = f.read().splitlines()\n",
        "  return rows\n",
        "\n",
        "\n",
        "def parse_input(input: tuple[str], unfold: bool=False) -> list[tuple[str, tuple[int]]]:\n",
        "  results = []\n",
        "\n",
        "  parse_regex = r'^([\\?\\#\\.]+) (([0-9]+,?)+)$'\n",
        "  for input_row in input:\n",
        "    m = re.match(parse_regex, input_row)\n",
        "    row = m.group(1)\n",
        "    groups = [int(c) for c in m.group(2).split(',')]\n",
        "\n",
        "    # Need to make groups a tuple so that it is hashable for\n",
        "    # when we memoize get_combinations.\n",
        "    results.append((row, tuple(groups)))\n",
        "  if unfold:\n",
        "    results = [tuple([((r[0] + '?') * 4) + r[0], tuple(r[1]*5)]) for r in results]\n",
        "  return results\n",
        "\n",
        "# We're going to be doing *a lot* of recursion in step 2, with a high\n",
        "# degree of cachability since unfolding repeats the row pattern and\n",
        "# matching groups.\n",
        "@functools.cache\n",
        "def get_combinations(problem: tuple[str, tuple[int]]) -> int:\n",
        "  row, groups = problem\n",
        "\n",
        "  # Base cases\n",
        "  if not groups:\n",
        "    # 1. no more groups and no more #'s left in the row, so it's a match\n",
        "    if '#' not in row:\n",
        "      return 1\n",
        "    # 2. no more groups, but we still have #'s, so no match.\n",
        "    else:\n",
        "      return 0\n",
        "  # 3. groups remain, but not enough chars to match\n",
        "  if len([c for c in row if c in ('?', '#')]) < groups[0]:\n",
        "    return 0\n",
        "\n",
        "  char_to_match = row[0]\n",
        "  group_to_match = groups[0]\n",
        "\n",
        "  match char_to_match:\n",
        "    # If we find a #, there should be exactly enough to match the next group.\n",
        "    # Any more or less than this is a mismatch.\n",
        "    case '#':\n",
        "      possible_match=row[:group_to_match]\n",
        "      if all((c in ['?', '#']) for c in possible_match) and (\n",
        "      group_to_match == len(row) or row[group_to_match] in ('.', '?')):\n",
        "        # Strip off an extra character because it's either a '.' or\n",
        "        # a '?' and if the latter we can only interpret as a '.' in\n",
        "        # order for the groups to be separated\n",
        "        return get_combinations((row[group_to_match+1:], groups[1:]))\n",
        "      else:\n",
        "        return 0\n",
        "    # We don't care about dots, they are just fillers\n",
        "    case '.':\n",
        "      return get_combinations((row[1:], groups))\n",
        "    # Expand both posibilities for ?\n",
        "    case '?':\n",
        "      return get_combinations(('#' + row[1:], groups)) + get_combinations(('.' + row[1:], groups))\n",
        "\n",
        "\n",
        "start_time = time.time()\n",
        "input = get_input()\n",
        "problems = parse_input(input, False if PART == 1 else True)\n",
        "answer = 0\n",
        "for problem in problems:\n",
        "  combinations = get_combinations(problem)\n",
        "  print(f'{problem} -- {combinations}')\n",
        "  answer += combinations\n",
        "  print ('=' * 40)\n",
        "print ('=' * 40)\n",
        "print(f'answer: {answer}')\n",
        "print(f'run time: {time.time() - start_time} (s)')"
      ]
    }
  ],
  "metadata": {
    "colab": {
      "provenance": [],
      "authorship_tag": "ABX9TyOJG9L9cAPpCHQy1lsnYRe/",
      "include_colab_link": true
    },
    "kernelspec": {
      "display_name": "Python 3",
      "name": "python3"
    },
    "language_info": {
      "name": "python"
    }
  },
  "nbformat": 4,
  "nbformat_minor": 0
}