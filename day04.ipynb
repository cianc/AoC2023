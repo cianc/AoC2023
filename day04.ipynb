{
  "nbformat": 4,
  "nbformat_minor": 0,
  "metadata": {
    "colab": {
      "provenance": [],
      "authorship_tag": "ABX9TyN6TGXEjyZ61FXSb/nSita9",
      "include_colab_link": true
    },
    "kernelspec": {
      "name": "python3",
      "display_name": "Python 3"
    },
    "language_info": {
      "name": "python"
    }
  },
  "cells": [
    {
      "cell_type": "markdown",
      "metadata": {
        "id": "view-in-github",
        "colab_type": "text"
      },
      "source": [
        "<a href=\"https://colab.research.google.com/github/cianc/AoC2023/blob/main/day04.ipynb\" target=\"_parent\"><img src=\"https://colab.research.google.com/assets/colab-badge.svg\" alt=\"Open In Colab\"/></a>"
      ]
    },
    {
      "cell_type": "code",
      "execution_count": 11,
      "metadata": {
        "id": "Vrx0TlYZFJvO"
      },
      "outputs": [],
      "source": [
        "TEST = False #@param {type: \"boolean\"}\n",
        "TEST_INPUT = 'day4_test1.txt'\n",
        "INPUT = 'day4_input1.txt'\n",
        "\n"
      ]
    },
    {
      "cell_type": "code",
      "source": [
        "import string\n",
        "import re\n",
        "from typing import NamedTuple\n",
        "\n",
        "class Card(NamedTuple):\n",
        "  id: int\n",
        "  possible_winners: list[int]\n",
        "  numbers: list[int]\n",
        "  actual_winners: list[int]\n",
        "  points: int\n",
        "\n",
        "def parse_cards() -> list[Card]:\n",
        "  input = TEST_INPUT if TEST else INPUT\n",
        "  with open(input, 'r') as f:\n",
        "    rows = f.read().splitlines()\n",
        "\n",
        "  cards = []\n",
        "  card_regex = r'^Card *(\\d+):(( *\\d+ *)+)\\|(( *\\d+ *)+)$'\n",
        "  for row in rows:\n",
        "    m = re.match(card_regex, row)\n",
        "    id = int(m.group(1))\n",
        "    possible_winners = [int(pb) for pb in m.group(2).split()]\n",
        "    numbers = [int(n) for n in m.group(4).split()]\n",
        "    actual_winners = list(set(possible_winners).intersection(set(numbers)))\n",
        "    points = 2**(len(actual_winners) - 1) if len(actual_winners) > 0 else 0\n",
        "    cards.append(Card(id, possible_winners, numbers, actual_winners, points))\n",
        "\n",
        "  return cards\n",
        "\n",
        "cards = parse_cards()\n",
        "print(f'Sum of points: {sum(c.points for c in cards)}')"
      ],
      "metadata": {
        "id": "yEKHeuXrrq6Y"
      },
      "execution_count": null,
      "outputs": []
    },
    {
      "cell_type": "code",
      "source": [],
      "metadata": {
        "id": "yc-bXwFLYMoB"
      },
      "execution_count": null,
      "outputs": []
    }
  ]
}