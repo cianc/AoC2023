{
  "nbformat": 4,
  "nbformat_minor": 0,
  "metadata": {
    "colab": {
      "provenance": [],
      "authorship_tag": "ABX9TyPD1AL+oT5zAls2v4flvprx",
      "include_colab_link": true
    },
    "kernelspec": {
      "name": "python3",
      "display_name": "Python 3"
    },
    "language_info": {
      "name": "python"
    }
  },
  "cells": [
    {
      "cell_type": "markdown",
      "metadata": {
        "id": "view-in-github",
        "colab_type": "text"
      },
      "source": [
        "<a href=\"https://colab.research.google.com/github/cianc/AoC2023/blob/main/day11.ipynb\" target=\"_parent\"><img src=\"https://colab.research.google.com/assets/colab-badge.svg\" alt=\"Open In Colab\"/></a>"
      ]
    },
    {
      "cell_type": "code",
      "execution_count": 90,
      "metadata": {
        "id": "Vrx0TlYZFJvO"
      },
      "outputs": [],
      "source": [
        "TEST = False #@param {type: \"boolean\"}\n",
        "TEST_INPUT1 = 'day11_test1.txt'\n",
        "TEST_INPUT2 = 'day11_test1.txt'\n",
        "INPUT = 'day11_input1.txt'\n",
        "PART=1 #@param {type: \"integer\"}\n"
      ]
    },
    {
      "cell_type": "code",
      "source": [
        "import time\n",
        "\n",
        "def get_input() -> list[str]:\n",
        "  if PART == 1:\n",
        "    input = TEST_INPUT1 if TEST else INPUT\n",
        "  else:\n",
        "    input = TEST_INPUT2 if TEST else INPUT\n",
        "\n",
        "  with open(input, 'r') as f:\n",
        "    rows = f.read().splitlines()\n",
        "  return rows\n",
        "\n",
        "def parse_map(input: list[str]) -> list[tuple[str, str]]:\n",
        "  # Need to transpose rows and columns so that the first list index is\n",
        "  # the x coordinate and the second is y like god intended\n",
        "  map = [[] for i in range(len(input[0]))]\n",
        "  galaxy_id = 1\n",
        "  for row in input:\n",
        "    for i, value in enumerate(row):\n",
        "      if value == \"#\":\n",
        "        value = str(galaxy_id)\n",
        "        galaxy_id += 1\n",
        "      map[i].append(value)\n",
        "\n",
        "  x = 0\n",
        "  while True:\n",
        "    column = map[x]\n",
        "    if all([cell=='.' for cell in column]):\n",
        "      map.insert(x+1, column)\n",
        "      x += 2\n",
        "    else:\n",
        "      x += 1\n",
        "    if x >= len(map):\n",
        "      break\n",
        "\n",
        "  y = 0\n",
        "  while True:\n",
        "    row = [column[y] for column in map]\n",
        "    if all([cell=='.' for cell in row]):\n",
        "      for column_index in range(len(map)):\n",
        "        map[column_index].insert(y+1, '.')\n",
        "      y += 2\n",
        "    else:\n",
        "      y += 1\n",
        "    if y >= len(map[0]):\n",
        "      break\n",
        "\n",
        "  return map\n",
        "\n",
        "def print_map(map: list[tuple[str, str]]):\n",
        "  for y in range(len(map[0])):\n",
        "    row = [column[y] for column in map]\n",
        "    print(''.join(row))\n",
        "\n",
        "def calculate_distance_pairs(map: list[tuple[str, str]]) -> dict[tuple[str, str], int]:\n",
        "  distances = {}\n",
        "\n",
        "  galaxy_map = {}\n",
        "  for x in range(len(map)):\n",
        "    for y in range(len(map[0])):\n",
        "      cell = map[x][y]\n",
        "      if map[x][y].isnumeric():\n",
        "        galaxy_map[cell] = (x,y)\n",
        "\n",
        "  galaxy_names = galaxy_map.keys()\n",
        "  for this_galaxy in galaxy_names:\n",
        "    for other_galaxy in [g for g in galaxy_names if g != this_galaxy]:\n",
        "      if distances.get(tuple(sorted((this_galaxy, other_galaxy))), None):\n",
        "        continue\n",
        "      distance = (abs(galaxy_map[this_galaxy][0] - galaxy_map[other_galaxy][0]) +\n",
        "                  abs(galaxy_map[this_galaxy][1] - galaxy_map[other_galaxy][1]))\n",
        "      distances[tuple(sorted((this_galaxy, other_galaxy)))] = distance\n",
        "\n",
        "  return distances\n",
        "\n",
        "start_time = time.time()\n",
        "input = get_input()\n",
        "map = parse_map(input)\n",
        "distance_pairs = calculate_distance_pairs(map)\n",
        "print(f'sum of distances: {sum(distance_pairs.values())}')\n",
        "end_time = time.time()\n",
        "print(f'run time: {end_time - start_time} (s)')"
      ],
      "metadata": {
        "id": "yEKHeuXrrq6Y"
      },
      "execution_count": null,
      "outputs": []
    }
  ]
}