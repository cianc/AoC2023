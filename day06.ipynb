{
  "nbformat": 4,
  "nbformat_minor": 0,
  "metadata": {
    "colab": {
      "provenance": [],
      "authorship_tag": "ABX9TyP9f1MKViN6E94uZb9qcrqx",
      "include_colab_link": true
    },
    "kernelspec": {
      "name": "python3",
      "display_name": "Python 3"
    },
    "language_info": {
      "name": "python"
    }
  },
  "cells": [
    {
      "cell_type": "markdown",
      "metadata": {
        "id": "view-in-github",
        "colab_type": "text"
      },
      "source": [
        "<a href=\"https://colab.research.google.com/github/cianc/AoC2023/blob/main/day06.ipynb\" target=\"_parent\"><img src=\"https://colab.research.google.com/assets/colab-badge.svg\" alt=\"Open In Colab\"/></a>"
      ]
    },
    {
      "cell_type": "code",
      "execution_count": 72,
      "metadata": {
        "id": "Vrx0TlYZFJvO"
      },
      "outputs": [],
      "source": [
        "TEST = True #@param {type: \"boolean\"}\n",
        "TEST_INPUT = 'day6_test1.txt'\n",
        "INPUT = 'day6_input1.txt'\n",
        "PART=2 #@param {type: \"integer\"}\n"
      ]
    },
    {
      "cell_type": "code",
      "source": [
        "import math\n",
        "import re\n",
        "import time\n",
        "\n",
        "def get_input() -> list[str]:\n",
        "  input = TEST_INPUT if TEST else INPUT\n",
        "  with open(input, 'r') as f:\n",
        "    rows = f.read().splitlines()\n",
        "  return rows\n",
        "\n",
        "def parse_records(rows: list[str], concat_numbers: int) -> dict[int, int]:\n",
        "  time_regex = r'^Time: *(( *\\d+ *)+)$'\n",
        "  distance_regex = r'^Distance: *(( *\\d+ *)+)$'\n",
        "\n",
        "  t = re.match(time_regex, rows[0])\n",
        "  times = [int(s) for s in t.group(1).split()]\n",
        "  d = re.match(distance_regex, rows[1])\n",
        "  distances = [int(s) for s in d.group(1).split()]\n",
        "  if not concat_numbers:\n",
        "    return dict(zip(times, distances))\n",
        "  else:\n",
        "    time = int(''.join([str(t) for t in times]))\n",
        "    distance = int(''.join([str(d) for d in distances]))\n",
        "    return {time: distance}\n",
        "\n",
        "def get_win_counts(records: dict[int, int]) -> list[int]:\n",
        "  win_counts = []\n",
        "  for time, distance in records.items():\n",
        "    win_count = 0\n",
        "    for hold_time in range(1, time):\n",
        "      if ((time - hold_time) * hold_time) > distance:\n",
        "        win_count += 1\n",
        "\n",
        "    win_counts.append(win_count)\n",
        "  return win_counts\n",
        "\n",
        "def get_win_counts_with_maths(records: (dict[int, int])) -> list[int]:\n",
        "  # so for a quadractic equation: d=y,\n",
        "  # Quadratic equation for ax**2 + bx + c is\n",
        "  # x1=(-b+sqrt(b**2-4ac))/2a\n",
        "  # x2=(b+sqrt(b**2-4ac))/2a\n",
        "  #\n",
        "  # Formula for race is distance=(time-time_held)*time_held\n",
        "  # or d = -th**2 + t.th\n",
        "  # So a==-1, b==t, c==0\n",
        "  win_counts = []\n",
        "  for t, d in records.items():\n",
        "    x1=((-1 * t) + math.sqrt(t**2 - (4 * -1 * 0)))/-2\n",
        "    x2=(t + math.sqrt(t**2 - (4 * -1 * 0)))/-2\n",
        "    win_counts.append(abs(x2 - x1))\n",
        "    return win_counts\n",
        "\n",
        "input = get_input()\n",
        "concat_numbers = False if PART==1 else True\n",
        "records = parse_records(input, concat_numbers)\n",
        "\n",
        "start_time = time.time()\n",
        "win_counts = get_win_counts(records)\n",
        "end_time = time.time()\n",
        "print(f'brute force answer: {math.prod(win_counts)} -- time: {end_time - start_time} (s)')\n",
        "\n",
        "start_time = time.time()\n",
        "fast_win_counts = get_win_counts_with_maths(records)\n",
        "end_time = time.time()\n",
        "print(f'fast anser: {math.prod(fast_win_counts)} -- time: {end_time - start_time}(s)')\n"
      ],
      "metadata": {
        "id": "yEKHeuXrrq6Y"
      },
      "execution_count": null,
      "outputs": []
    },
    {
      "cell_type": "code",
      "source": [],
      "metadata": {
        "id": "yc-bXwFLYMoB"
      },
      "execution_count": null,
      "outputs": []
    }
  ]
}