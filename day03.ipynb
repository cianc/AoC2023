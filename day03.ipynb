{
  "nbformat": 4,
  "nbformat_minor": 0,
  "metadata": {
    "colab": {
      "provenance": [],
      "authorship_tag": "ABX9TyMa5+dAjX9SP3Df32oFBXwr",
      "include_colab_link": true
    },
    "kernelspec": {
      "name": "python3",
      "display_name": "Python 3"
    },
    "language_info": {
      "name": "python"
    }
  },
  "cells": [
    {
      "cell_type": "markdown",
      "metadata": {
        "id": "view-in-github",
        "colab_type": "text"
      },
      "source": [
        "<a href=\"https://colab.research.google.com/github/cianc/AoC2023/blob/main/day03.ipynb\" target=\"_parent\"><img src=\"https://colab.research.google.com/assets/colab-badge.svg\" alt=\"Open In Colab\"/></a>"
      ]
    },
    {
      "cell_type": "code",
      "execution_count": 50,
      "metadata": {
        "id": "Vrx0TlYZFJvO"
      },
      "outputs": [],
      "source": [
        "TEST = False #@param {type: \"boolean\"}\n",
        "TEST_INPUT = 'test_1.txt'\n",
        "INPUT = 'input_1.txt'\n",
        "\n"
      ]
    },
    {
      "cell_type": "code",
      "source": [
        "import string\n",
        "import re\n",
        "from google.colab import drive\n",
        "from typing import NamedTuple\n",
        "\n",
        "SYMBOLS = set([c for c in string.printable if c not in string.ascii_letters + string.digits + '.'])\n",
        "\n",
        "class Part(NamedTuple):\n",
        "  row: int\n",
        "  start_col: int\n",
        "  end_col: int\n",
        "  value: int\n",
        "\n",
        "class Gear(NamedTuple):\n",
        "  row: int\n",
        "  col: int\n",
        "  parts: list[Part] = []\n",
        "  ratio: int = 0\n",
        "\n",
        "def read_schematic() -> list[str]:\n",
        "  input = TEST_INPUT if TEST else INPUT\n",
        "  with open(input, 'r') as f:\n",
        "    rows = f.read().splitlines()\n",
        "  return rows\n",
        "\n",
        "def get_parts_and_gears(schematic: list[str]) -> tuple[list[Part], list[Gear]]:\n",
        "  # First get the parts, then the gears. Do this in two passes for simplicity.\n",
        "  parts = []\n",
        "  max_row = len(schematic) - 1\n",
        "  max_col = len(schematic[0]) - 1\n",
        "  for row_index, row in enumerate(schematic):\n",
        "    matches = re.finditer(r'\\d+', row)\n",
        "    for match in matches:\n",
        "      part = Part(row=row_index, start_col=match.start(0), end_col=match.end(0)-1, value=int(match.group(0)))\n",
        "\n",
        "      above_row_index = row_index-1 if row_index > 0 else None\n",
        "      below_row_index = row_index+1 if row_index < max_row else None\n",
        "      leftmost_col_index = max(part.start_col - 1, 0)\n",
        "      rightmost_col_index = min(part.end_col + 1, max_col)\n",
        "\n",
        "      if (\n",
        "          (above_row_index and (set(schematic[above_row_index][leftmost_col_index:rightmost_col_index+1]).intersection(SYMBOLS))) or\n",
        "          (below_row_index and (set(schematic[below_row_index][leftmost_col_index:rightmost_col_index+1]).intersection(SYMBOLS))) or\n",
        "          row[leftmost_col_index] in SYMBOLS or\n",
        "          row[rightmost_col_index] in SYMBOLS):\n",
        "        parts.append(part)\n",
        "\n",
        "  gears = []\n",
        "  for row_index, row in enumerate(schematic):\n",
        "    matches = re.finditer(r'\\*', row)\n",
        "    for match in matches:\n",
        "      col_index = match.start(0)\n",
        "      gear_parts = []\n",
        "      for part in parts:\n",
        "        if part.row in range(row_index - 1, row_index + 2) and col_index in range(part.start_col - 1, part.end_col + 2):\n",
        "          gear_parts.append(part)\n",
        "      if len(gear_parts) == 2:\n",
        "        gear = Gear(row=row_index, col=col_index, parts=gear_parts, ratio = gear_parts[0].value * gear_parts[1].value)\n",
        "        gears.append(gear)\n",
        "\n",
        "  return (parts, gears)\n",
        "\n",
        "\n",
        "schematic = read_schematic()\n",
        "parts, gears = get_parts_and_gears(schematic)\n",
        "print(f'parts sum: {sum(p.value for p in parts)}')\n",
        "print(f'gears sum: {sum(g.ratio for g in gears)}')\n",
        "\n"
      ],
      "metadata": {
        "id": "yEKHeuXrrq6Y"
      },
      "execution_count": null,
      "outputs": []
    },
    {
      "cell_type": "code",
      "source": [],
      "metadata": {
        "id": "yc-bXwFLYMoB"
      },
      "execution_count": null,
      "outputs": []
    }
  ]
}