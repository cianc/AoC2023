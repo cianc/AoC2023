{
  "nbformat": 4,
  "nbformat_minor": 0,
  "metadata": {
    "colab": {
      "provenance": [],
      "authorship_tag": "ABX9TyOS7Qw/ay647GRmKtimGe0c",
      "include_colab_link": true
    },
    "kernelspec": {
      "name": "python3",
      "display_name": "Python 3"
    },
    "language_info": {
      "name": "python"
    }
  },
  "cells": [
    {
      "cell_type": "markdown",
      "metadata": {
        "id": "view-in-github",
        "colab_type": "text"
      },
      "source": [
        "<a href=\"https://colab.research.google.com/github/cianc/AoC2023/blob/main/day07.ipynb\" target=\"_parent\"><img src=\"https://colab.research.google.com/assets/colab-badge.svg\" alt=\"Open In Colab\"/></a>"
      ]
    },
    {
      "cell_type": "code",
      "execution_count": 74,
      "metadata": {
        "id": "Vrx0TlYZFJvO"
      },
      "outputs": [],
      "source": [
        "TEST = False #@param {type: \"boolean\"}\n",
        "TEST_INPUT = 'day7_test1.txt'\n",
        "INPUT = 'day7_input1.txt'\n",
        "PART=2 #@param {type: \"integer\"}\n"
      ]
    },
    {
      "cell_type": "code",
      "source": [
        "from collections import Counter\n",
        "\n",
        "class Entry():\n",
        "  def __init__(self, hand: str, bid: int, jokers_are_wild: bool):\n",
        "    self.hand = hand\n",
        "    self.bid = bid\n",
        "    self.jokers_are_wild = jokers_are_wild\n",
        "    self.score = self._score()\n",
        "    self.card_value_map = self._create_card_value_map()\n",
        "\n",
        "  def __repr__(self):\n",
        "    return f'hand: {self.hand} - score: {self.score} - bid: {self.bid}'\n",
        "\n",
        "  def _score(self):\n",
        "    hand_counter = Counter(self.hand)\n",
        "\n",
        "    if self.jokers_are_wild:\n",
        "      joker_count = hand_counter.get('J', 0)\n",
        "      if joker_count == 5:\n",
        "        pass\n",
        "      else:\n",
        "        del hand_counter['J']\n",
        "        most_common_card =  max(hand_counter.items(), key=lambda card: card[1])[0]\n",
        "        hand_counter[most_common_card] += joker_count\n",
        "\n",
        "    # Five of a kind\n",
        "    if len(hand_counter) == 1:\n",
        "      return 6\n",
        "    elif len(hand_counter) == 2:\n",
        "      hand_tuples = list(hand_counter.items())\n",
        "      # Four of a kind\n",
        "      if hand_tuples[0][1] in (1, 4):\n",
        "        return 5\n",
        "      # Full house\n",
        "      else:\n",
        "        return 4\n",
        "    elif len(hand_counter) == 3:\n",
        "      hand_tuples = list(hand_counter.items())\n",
        "      # Three of a kind\n",
        "      if [h for h in hand_tuples if h[1] == 3]:\n",
        "        return 3\n",
        "       # Two pair\n",
        "      else:\n",
        "        return 2\n",
        "    # One pair\n",
        "    elif len(hand_counter) == 4:\n",
        "      return 1\n",
        "    else:\n",
        "      return 0\n",
        "\n",
        "  def _create_card_value_map(self):\n",
        "    value_map = {}\n",
        "    if self.jokers_are_wild:\n",
        "      cards = 'A, K, Q, T, 9, 8, 7, 6, 5, 4, 3, 2, J'\n",
        "    else:\n",
        "      cards = 'A, K, Q, J, T, 9, 8, 7, 6, 5, 4, 3, 2'\n",
        "    for value, card in enumerate([card.strip() for card in cards.split(',')][::-1]):\n",
        "      value_map[card] = value\n",
        "    return value_map\n",
        "\n",
        "  def __lt__(self, other):\n",
        "    if self.score < other.score:\n",
        "      return True\n",
        "\n",
        "    if self.score == other.score:\n",
        "      for a, b in zip(self.hand, other.hand):\n",
        "        if a == b: continue\n",
        "        if self.card_value_map[a] < self.card_value_map[b]:\n",
        "          return True\n",
        "        else:\n",
        "          return False\n",
        "\n",
        "def get_input() -> list[str]:\n",
        "  input = TEST_INPUT if TEST else INPUT\n",
        "  with open(input, 'r') as f:\n",
        "    rows = f.read().splitlines()\n",
        "  return rows\n",
        "\n",
        "def parse_entries(rows: list[str]) -> list[Entry]:\n",
        "  entries = []\n",
        "  for row in rows:\n",
        "    hand, bid = row.split()\n",
        "    entries.append(Entry(hand, int(bid), False if PART==1 else True))\n",
        "  return entries\n",
        "\n",
        "def calc_winnings(entries: list[Entry]) -> int:\n",
        "  winnings = 0\n",
        "  for i, entry in enumerate(entries):\n",
        "    winnings += entry.bid * (i+1)\n",
        "  return winnings\n",
        "\n",
        "input = get_input()\n",
        "entries = parse_entries(input)\n",
        "entries.sort()\n",
        "print(f'answer: {calc_winnings(entries)}')\n"
      ],
      "metadata": {
        "id": "yEKHeuXrrq6Y"
      },
      "execution_count": null,
      "outputs": []
    }
  ]
}