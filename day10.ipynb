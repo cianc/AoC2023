{
  "nbformat": 4,
  "nbformat_minor": 0,
  "metadata": {
    "colab": {
      "provenance": [],
      "authorship_tag": "ABX9TyPAwCxlqUvFNrZF9zmmEmQc",
      "include_colab_link": true
    },
    "kernelspec": {
      "name": "python3",
      "display_name": "Python 3"
    },
    "language_info": {
      "name": "python"
    }
  },
  "cells": [
    {
      "cell_type": "markdown",
      "metadata": {
        "id": "view-in-github",
        "colab_type": "text"
      },
      "source": [
        "<a href=\"https://colab.research.google.com/github/cianc/AoC2023/blob/main/day10.ipynb\" target=\"_parent\"><img src=\"https://colab.research.google.com/assets/colab-badge.svg\" alt=\"Open In Colab\"/></a>"
      ]
    },
    {
      "cell_type": "code",
      "execution_count": 84,
      "metadata": {
        "id": "Vrx0TlYZFJvO"
      },
      "outputs": [],
      "source": [
        "TEST = False #@param {type: \"boolean\"}\n",
        "TEST_INPUT = 'day10_test1.txt'\n",
        "INPUT = 'day10_part1.txt'\n",
        "PART=1 #@param {type: \"integer\"}\n"
      ]
    },
    {
      "cell_type": "code",
      "source": [
        "import time\n",
        "\n",
        "NORTH = (0, -1)\n",
        "SOUTH = (0, 1)\n",
        "WEST = (-1, 0)\n",
        "EAST = (1, 0)\n",
        "\n",
        "NORTH_ALLOWED = {NORTH: ('|', '7', 'F', 'S')}\n",
        "SOUTH_ALLOWED = {SOUTH: ('|', 'J', 'L', 'S')}\n",
        "WEST_ALLOWED = {WEST: ('-', 'L', 'F', 'S')}\n",
        "EAST_ALLOWED = {EAST: ('-', 'J', '7', 'S')}\n",
        "\n",
        "pipes = {'|': {**NORTH_ALLOWED, **SOUTH_ALLOWED},\n",
        "         '-': {**WEST_ALLOWED, **EAST_ALLOWED},\n",
        "         'L': {**NORTH_ALLOWED, **EAST_ALLOWED},\n",
        "         'J': {**NORTH_ALLOWED, **WEST_ALLOWED},\n",
        "         '7': {**SOUTH_ALLOWED, **WEST_ALLOWED},\n",
        "         'F': {**SOUTH_ALLOWED, **EAST_ALLOWED}}\n",
        "\n",
        "to_from_mapping = {NORTH: SOUTH, SOUTH: NORTH, EAST: WEST, WEST: EAST}\n",
        "\n",
        "def get_input() -> list[str]:\n",
        "  input = TEST_INPUT if TEST else INPUT\n",
        "\n",
        "  with open(input, 'r') as f:\n",
        "    rows = f.read().splitlines()\n",
        "  return rows\n",
        "\n",
        "def find_loop(rows: list[str]) -> int:\n",
        "  # Need to transpose rows and columns so that the first list index is\n",
        "  # the x coordinate and the second is y like god intended\n",
        "  map = [[] for i in range(len(rows[0]))]\n",
        "  for row in rows:\n",
        "    for i, value in enumerate(row):\n",
        "      map[i].append(value)\n",
        "\n",
        "  max_x_index = len(map) - 1\n",
        "  max_y_index = len(map[0]) - 1\n",
        "  for x, column in enumerate(map):\n",
        "    for y, val in enumerate(column):\n",
        "      if val == 'S':\n",
        "        start_position = (x, y)\n",
        "        break\n",
        "    if val == 'S':\n",
        "      break\n",
        "\n",
        "  current_position = start_position\n",
        "  current_symbol = 'S'\n",
        "  from_direction = None\n",
        "  hop_count = 0\n",
        "  while True:\n",
        "    for offset in [dir for dir in (NORTH, SOUTH, EAST, WEST) if dir != from_direction]:\n",
        "      new_position = (current_position[0] + offset[0], current_position[1] + offset[1])\n",
        "      if new_position[0] > max_x_index or new_position[1] > max_y_index:\n",
        "        continue\n",
        "\n",
        "      new_symbol = map[new_position[0]][new_position[1]]\n",
        "      if new_symbol == '.':\n",
        "        continue\n",
        "\n",
        "      # S is allowed to connect to all pipes in all direction\n",
        "      if current_symbol == 'S':\n",
        "        allowed_connections = pipes.keys()\n",
        "      else:\n",
        "        allowed_connections = pipes[current_symbol].get(offset, [])\n",
        "      if new_symbol in allowed_connections:\n",
        "        if new_symbol == 'S':\n",
        "          return hop_count\n",
        "        current_position = new_position\n",
        "        current_symbol = new_symbol\n",
        "        from_direction = to_from_mapping[offset]\n",
        "        hop_count += 1\n",
        "        break\n",
        "\n",
        "input = get_input()\n",
        "\n",
        "start_time = time.time()\n",
        "print(f'hop count: {math.ceil(find_loop(input)/2)}')\n",
        "end_time = time.time()\n",
        "\n",
        "print(f'run time: {end_time - start_time} (s)')"
      ],
      "metadata": {
        "id": "yEKHeuXrrq6Y"
      },
      "execution_count": null,
      "outputs": []
    }
  ]
}