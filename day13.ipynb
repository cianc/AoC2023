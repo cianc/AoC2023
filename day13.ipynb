{
  "cells": [
    {
      "cell_type": "markdown",
      "metadata": {
        "id": "view-in-github",
        "colab_type": "text"
      },
      "source": [
        "<a href=\"https://colab.research.google.com/github/cianc/AoC2023/blob/main/day13.ipynb\" target=\"_parent\"><img src=\"https://colab.research.google.com/assets/colab-badge.svg\" alt=\"Open In Colab\"/></a>"
      ]
    },
    {
      "cell_type": "code",
      "execution_count": 2,
      "metadata": {
        "id": "8kLfsIxGR85B",
        "colab": {
          "base_uri": "https://localhost:8080/"
        },
        "outputId": "f930de96-15e8-4d31-a22f-83467b1fdf84"
      },
      "outputs": [
        {
          "output_type": "stream",
          "name": "stdout",
          "text": [
            "\u001b[?25l     \u001b[90m━━━━━━━━━━━━━━━━━━━━━━━━━━━━━━━━━━━━━━━━\u001b[0m \u001b[32m0.0/1.6 MB\u001b[0m \u001b[31m?\u001b[0m eta \u001b[36m-:--:--\u001b[0m\r\u001b[2K     \u001b[91m━━━━━━\u001b[0m\u001b[91m╸\u001b[0m\u001b[90m━━━━━━━━━━━━━━━━━━━━━━━━━━━━━━━━━\u001b[0m \u001b[32m0.3/1.6 MB\u001b[0m \u001b[31m7.8 MB/s\u001b[0m eta \u001b[36m0:00:01\u001b[0m\r\u001b[2K     \u001b[91m━━━━━━━━━━━━━━━━\u001b[0m\u001b[91m╸\u001b[0m\u001b[90m━━━━━━━━━━━━━━━━━━━━━━━\u001b[0m \u001b[32m0.7/1.6 MB\u001b[0m \u001b[31m9.6 MB/s\u001b[0m eta \u001b[36m0:00:01\u001b[0m\r\u001b[2K     \u001b[91m━━━━━━━━━━━━━━━━━━━━━━━━━━━━\u001b[0m\u001b[91m╸\u001b[0m\u001b[90m━━━━━━━━━━━\u001b[0m \u001b[32m1.1/1.6 MB\u001b[0m \u001b[31m11.1 MB/s\u001b[0m eta \u001b[36m0:00:01\u001b[0m\r\u001b[2K     \u001b[90m━━━━━━━━━━━━━━━━━━━━━━━━━━━━━━━━━━━━━━━━\u001b[0m \u001b[32m1.6/1.6 MB\u001b[0m \u001b[31m11.3 MB/s\u001b[0m eta \u001b[36m0:00:00\u001b[0m\n",
            "\u001b[?25h"
          ]
        }
      ],
      "source": [
        "!pip install -Uqq ipdb"
      ]
    },
    {
      "cell_type": "code",
      "execution_count": 44,
      "metadata": {
        "id": "Vrx0TlYZFJvO"
      },
      "outputs": [],
      "source": [
        "TEST = False #@param {type: \"boolean\"}\n",
        "TEST_INPUT1 = 'day13_test1.txt'\n",
        "TEST_INPUT2 = 'day13_test1.txt'\n",
        "INPUT = 'day13_input1.txt'\n",
        "PART=2 #@param {type: \"integer\"}"
      ]
    },
    {
      "cell_type": "markdown",
      "source": [
        "This is pretty disgusting, but it was fun doing it with bitmasks and binary operations."
      ],
      "metadata": {
        "id": "4w5B-nP5Y77w"
      }
    },
    {
      "cell_type": "code",
      "execution_count": null,
      "metadata": {
        "id": "yEKHeuXrrq6Y"
      },
      "outputs": [],
      "source": [
        "import ipdb\n",
        "import itertools\n",
        "import math\n",
        "import re\n",
        "import time\n",
        "\n",
        "\n",
        "def get_input() -> list[str]:\n",
        "  if PART == 1:\n",
        "    input = TEST_INPUT1 if TEST else INPUT\n",
        "  else:\n",
        "    input = TEST_INPUT2 if TEST else INPUT\n",
        "\n",
        "  with open(input, 'r') as f:\n",
        "    rows = f.read().splitlines()\n",
        "  return rows\n",
        "\n",
        "\n",
        "def parse_patterns(input: tuple[str]) -> list[tuple[dict[int, list[int]], dict[int, list[int]]]]:\n",
        "  partial_patterns = []\n",
        "  full_patterns = []\n",
        "\n",
        "  rows_to_fingerprints = {}\n",
        "  row_index = 0\n",
        "  pattern_index = 0\n",
        "  for row in input:\n",
        "    if row == '':\n",
        "      pattern_index += 1\n",
        "      partial_patterns.append(rows_to_fingerprints)\n",
        "      rows_to_fingerprints = {}\n",
        "      row_index = 0\n",
        "    else:\n",
        "      row_fingerprint = 0\n",
        "      for col_index, cell in enumerate(row):\n",
        "        if cell == '#':\n",
        "          row_fingerprint = row_fingerprint | 1 << col_index\n",
        "      rows_to_fingerprints[row_index] = row_fingerprint\n",
        "      row_index += 1\n",
        "  partial_patterns.append(rows_to_fingerprints)\n",
        "\n",
        "  # Yes this is disgusting but it's what I get for having fun with bitmasks.\n",
        "  for rows_to_fingerprints in partial_patterns:\n",
        "    rows = rows_to_fingerprints.keys()\n",
        "    row_width = int(math.ceil(max([math.log2(f) for f in rows_to_fingerprints.values()])))\n",
        "    cols_to_fingerprints = {}\n",
        "    for col_index in range(row_width):\n",
        "      col_fingerprint = 0\n",
        "      for row_index in rows:\n",
        "        row_fingerprint = rows_to_fingerprints[row_index]\n",
        "        fingerprint_fragment = (row_fingerprint >> col_index) & 1\n",
        "        col_fingerprint = col_fingerprint | fingerprint_fragment << row_index\n",
        "      cols_to_fingerprints[col_index] = col_fingerprint\n",
        "    full_patterns.append((rows_to_fingerprints, cols_to_fingerprints))\n",
        "\n",
        "  return full_patterns\n",
        "\n",
        "def find_folds(x_to_fingerprints: list[tuple[dict[int, int], dict[int, int]]]) -> tuple[int, int]:\n",
        "  answer = {}\n",
        "\n",
        "  for index, fingerprint in x_to_fingerprints.items():\n",
        "    if index == len(x_to_fingerprints.items()) - 1:\n",
        "      continue\n",
        "    xor = fingerprint ^ x_to_fingerprints[index+1]\n",
        "    if xor == 0:\n",
        "      indexes_before = range(0, index + 1)\n",
        "      indexes_after = range(index + 1, len(x_to_fingerprints.keys()))\n",
        "      indexes_count_before = len(indexes_before)\n",
        "      indexes_count_after = len(indexes_after)\n",
        "      match_count = 0\n",
        "      almost_match_count = 0\n",
        "      for index_before, index_after in zip(indexes_before[::-1], indexes_after):\n",
        "        before_after_xor = x_to_fingerprints[index_before] ^ x_to_fingerprints[index_after]\n",
        "        if before_after_xor == 0:\n",
        "          match_count += 1\n",
        "        elif math.log2(before_after_xor).is_integer():\n",
        "          almost_match_count += 1\n",
        "      if match_count in (indexes_count_before, indexes_count_after):\n",
        "        answer['fold'] = (index, index+1)\n",
        "      elif almost_match_count == 1 and match_count in (indexes_count_before - 1, indexes_count_after - 1):\n",
        "        answer['too_few_matches_fold'] = (index, index+1)\n",
        "    # Check if adjacent rows/cols are off by just 1 bit.\n",
        "    elif math.log2(xor).is_integer():\n",
        "      indexes_before = range(0, index)\n",
        "      indexes_after = range (index + 2, len(x_to_fingerprints.keys()))\n",
        "      indexes_count_before = len(indexes_before)\n",
        "      indexes_count_after = len(indexes_after)\n",
        "      match_count = 0\n",
        "      for index_before, index_after in zip(indexes_before[::-1], indexes_after):\n",
        "        if x_to_fingerprints[index_before] == x_to_fingerprints[index_after]:\n",
        "          match_count += 1\n",
        "      if match_count in (indexes_count_before, indexes_count_after):\n",
        "        answer['off_by_one_fold'] = (index, index+1)\n",
        "\n",
        "  return answer\n",
        "\n",
        "\n",
        "start_time = time.time()\n",
        "input = get_input()\n",
        "patterns = parse_patterns(input)\n",
        "answer = 0\n",
        "\n",
        "for i, (rows_to_fingerprints, cols_to_fingerprints) in enumerate(patterns):\n",
        "  folds = find_folds(rows_to_fingerprints)\n",
        "  if PART == 1:\n",
        "    row_fold = folds.get('fold', None)\n",
        "    if row_fold:\n",
        "      answer += ((row_fold[0] + 1) * 100)\n",
        "\n",
        "  elif PART == 2:\n",
        "    row_too_few_matches_fold = folds.get('too_few_matches_fold', None)\n",
        "    row_off_by_one_fold = folds.get('off_by_one_fold', None)\n",
        "    if row_too_few_matches_fold:\n",
        "      answer += ((row_too_few_matches_fold[0] + 1) * 100)\n",
        "    elif row_off_by_one_fold:\n",
        "      answer += ((row_off_by_one_fold[0] + 1) * 100)\n",
        "\n",
        "\n",
        "  folds = find_folds(cols_to_fingerprints)\n",
        "  if PART == 1:\n",
        "    col_fold = folds.get('fold', None)\n",
        "    if col_fold:\n",
        "      answer += (col_fold[0] + 1)\n",
        "  elif PART == 2:\n",
        "    col_too_few_matches_fold = folds.get('too_few_matches_fold', None)\n",
        "    col_off_by_one_fold = folds.get('off_by_one_fold', None)\n",
        "    if col_too_few_matches_fold:\n",
        "      answer += (col_too_few_matches_fold[0] + 1)\n",
        "    elif col_off_by_one_fold:\n",
        "      answer += (col_off_by_one_fold[0] + 1)\n",
        "\n",
        "  print(f'answer ({i}): {answer}')\n",
        "  print('=' * 40)\n",
        "print(f'answer: {answer}')\n",
        "print(f'run time: {time.time() - start_time} (s)')"
      ]
    },
    {
      "cell_type": "code",
      "source": [],
      "metadata": {
        "id": "ZprNU0_7AjYX"
      },
      "execution_count": null,
      "outputs": []
    }
  ],
  "metadata": {
    "colab": {
      "provenance": [],
      "authorship_tag": "ABX9TyM7ifFIR4c+xQDnVQgkTsYx",
      "include_colab_link": true
    },
    "kernelspec": {
      "display_name": "Python 3",
      "name": "python3"
    },
    "language_info": {
      "name": "python"
    }
  },
  "nbformat": 4,
  "nbformat_minor": 0
}