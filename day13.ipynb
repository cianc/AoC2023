{
  "cells": [
    {
      "cell_type": "markdown",
      "metadata": {
        "id": "view-in-github",
        "colab_type": "text"
      },
      "source": [
        "<a href=\"https://colab.research.google.com/github/cianc/AoC2023/blob/main/day13.ipynb\" target=\"_parent\"><img src=\"https://colab.research.google.com/assets/colab-badge.svg\" alt=\"Open In Colab\"/></a>"
      ]
    },
    {
      "cell_type": "code",
      "execution_count": 3,
      "metadata": {
        "id": "8kLfsIxGR85B",
        "colab": {
          "base_uri": "https://localhost:8080/"
        },
        "outputId": "69ef4efc-3811-4611-a119-4a5b9b4bbb31"
      },
      "outputs": [
        {
          "output_type": "stream",
          "name": "stdout",
          "text": [
            "\u001b[?25l     \u001b[90m━━━━━━━━━━━━━━━━━━━━━━━━━━━━━━━━━━━━━━━━\u001b[0m \u001b[32m0.0/1.6 MB\u001b[0m \u001b[31m?\u001b[0m eta \u001b[36m-:--:--\u001b[0m\r\u001b[2K     \u001b[91m━━\u001b[0m\u001b[91m╸\u001b[0m\u001b[90m━━━━━━━━━━━━━━━━━━━━━━━━━━━━━━━━━━━━━\u001b[0m \u001b[32m0.1/1.6 MB\u001b[0m \u001b[31m3.4 MB/s\u001b[0m eta \u001b[36m0:00:01\u001b[0m\r\u001b[2K     \u001b[91m━━━━━━━━━━━━━━━━━━━━━━━━━━━\u001b[0m\u001b[90m╺\u001b[0m\u001b[90m━━━━━━━━━━━━\u001b[0m \u001b[32m1.1/1.6 MB\u001b[0m \u001b[31m15.9 MB/s\u001b[0m eta \u001b[36m0:00:01\u001b[0m\r\u001b[2K     \u001b[90m━━━━━━━━━━━━━━━━━━━━━━━━━━━━━━━━━━━━━━━━\u001b[0m \u001b[32m1.6/1.6 MB\u001b[0m \u001b[31m17.4 MB/s\u001b[0m eta \u001b[36m0:00:00\u001b[0m\n",
            "\u001b[?25h"
          ]
        }
      ],
      "source": [
        "!pip install -Uqq ipdb"
      ]
    },
    {
      "cell_type": "code",
      "execution_count": 4,
      "metadata": {
        "id": "Vrx0TlYZFJvO"
      },
      "outputs": [],
      "source": [
        "TEST = False #@param {type: \"boolean\"}\n",
        "TEST_INPUT1 = 'day13_test1.txt'\n",
        "TEST_INPUT2 = 'day13_test1.txt'\n",
        "INPUT = 'day13_input1.txt'\n",
        "PART=1 #@param {type: \"integer\"}"
      ]
    },
    {
      "cell_type": "code",
      "execution_count": null,
      "metadata": {
        "id": "yEKHeuXrrq6Y"
      },
      "outputs": [],
      "source": [
        "import ipdb\n",
        "import itertools\n",
        "import math\n",
        "import re\n",
        "import time\n",
        "\n",
        "\n",
        "def get_input() -> list[str]:\n",
        "  if PART == 1:\n",
        "    input = TEST_INPUT1 if TEST else INPUT\n",
        "  else:\n",
        "    input = TEST_INPUT2 if TEST else INPUT\n",
        "\n",
        "  with open(input, 'r') as f:\n",
        "    rows = f.read().splitlines()\n",
        "  return rows\n",
        "\n",
        "\n",
        "def parse_patterns(input: tuple[str]) -> list[tuple[dict[int, list[int]], dict[int, list[int]]]]:\n",
        "  partial_patterns = []\n",
        "  full_patterns = []\n",
        "\n",
        "  rows_to_fingerprints = {}\n",
        "  row_index = 0\n",
        "  pattern_index = 0\n",
        "  for row in input:\n",
        "    if row == '':\n",
        "      pattern_index += 1\n",
        "      partial_patterns.append(rows_to_fingerprints)\n",
        "      rows_to_fingerprints = {}\n",
        "      row_index = 0\n",
        "    else:\n",
        "      row_fingerprint = 0\n",
        "      for col_index, cell in enumerate(row):\n",
        "        if cell == '#':\n",
        "          row_fingerprint = row_fingerprint | 1 << col_index\n",
        "      rows_to_fingerprints[row_index] = row_fingerprint\n",
        "      row_index += 1\n",
        "  partial_patterns.append(rows_to_fingerprints)\n",
        "\n",
        "  # Yes this is disgusting but it's what I get for having fun with bitmasks.\n",
        "  for rows_to_fingerprints in partial_patterns:\n",
        "    rows = rows_to_fingerprints.keys()\n",
        "    row_width = int(math.ceil(max([math.log2(f) for f in rows_to_fingerprints.values()])))\n",
        "    cols_to_fingerprints = {}\n",
        "    for col_index in range(row_width):\n",
        "      col_fingerprint = 0\n",
        "      for row_index in rows:\n",
        "        row_fingerprint = rows_to_fingerprints[row_index]\n",
        "        fingerprint_fragment = (row_fingerprint >> col_index) & 1\n",
        "        col_fingerprint = col_fingerprint | fingerprint_fragment << row_index\n",
        "      cols_to_fingerprints[col_index] = col_fingerprint\n",
        "    full_patterns.append((rows_to_fingerprints, cols_to_fingerprints))\n",
        "\n",
        "  return full_patterns\n",
        "\n",
        "def find_fold(x_to_fingerprints: list[tuple[dict[int, int], dict[int, int]]]) -> tuple[int, int]:\n",
        "  for index, fingerprint in x_to_fingerprints.items():\n",
        "    if fingerprint == x_to_fingerprints.get(index+1, -1):\n",
        "      indexes_before = range(0, index + 1)\n",
        "      indexes_after = range(index + 1, len(x_to_fingerprints.keys()))\n",
        "      indexes_count_before = len(indexes_before)\n",
        "      indexes_count_after = len(indexes_after)\n",
        "      match_count = 0\n",
        "      for index_before, index_after in zip(indexes_before[::-1], indexes_after):\n",
        "        if x_to_fingerprints[index_before] == x_to_fingerprints[index_after]:\n",
        "          match_count += 1\n",
        "        if match_count in (indexes_count_before, indexes_count_after):\n",
        "          return index, index+1\n",
        "\n",
        "\n",
        "start_time = time.time()\n",
        "input = get_input()\n",
        "patterns = parse_patterns(input)\n",
        "answer = 0\n",
        "for i, (rows_to_fingerprints, cols_to_fingerprints) in enumerate(patterns):\n",
        "  row_fold = find_fold(rows_to_fingerprints)\n",
        "  if row_fold:\n",
        "    answer += ((row_fold[0] + 1) * 100)\n",
        "  col_fold = find_fold(cols_to_fingerprints)\n",
        "  if col_fold:\n",
        "    answer += (col_fold[0] + 1)\n",
        "  print(f'answer ({i}): {answer}')\n",
        "  print('=' * 40)\n",
        "print(f'answer: {answer}')\n",
        "print(f'run time: {time.time() - start_time} (s)')"
      ]
    }
  ],
  "metadata": {
    "colab": {
      "provenance": [],
      "authorship_tag": "ABX9TyP1Xgiq4YVDzGFyzS1pd2P6",
      "include_colab_link": true
    },
    "kernelspec": {
      "display_name": "Python 3",
      "name": "python3"
    },
    "language_info": {
      "name": "python"
    }
  },
  "nbformat": 4,
  "nbformat_minor": 0
}