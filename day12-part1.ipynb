{
  "cells": [
    {
      "cell_type": "markdown",
      "metadata": {
        "id": "view-in-github",
        "colab_type": "text"
      },
      "source": [
        "<a href=\"https://colab.research.google.com/github/cianc/AoC2023/blob/main/day12.ipynb\" target=\"_parent\"><img src=\"https://colab.research.google.com/assets/colab-badge.svg\" alt=\"Open In Colab\"/></a>"
      ]
    },
    {
      "cell_type": "code",
      "execution_count": 74,
      "metadata": {
        "id": "Vrx0TlYZFJvO"
      },
      "outputs": [],
      "source": [
        "TEST = False #@param {type: \"boolean\"}\n",
        "TEST_INPUT1 = 'day12_test1.txt'\n",
        "TEST_INPUT2 = 'day12_test1.txt'\n",
        "INPUT = 'day12_input1.txt'\n",
        "PART=1 #@param {type: \"integer\"}\n"
      ]
    },
    {
      "cell_type": "code",
      "execution_count": 14,
      "metadata": {
        "id": "8kLfsIxGR85B"
      },
      "outputs": [],
      "source": [
        "!pip install -Uqq ipdb\n",
        "!pip install -Uqq sympy\n"
      ]
    },
    {
      "cell_type": "code",
      "execution_count": 78,
      "metadata": {
        "colab": {
          "base_uri": "https://localhost:8080/"
        },
        "id": "yEKHeuXrrq6Y",
        "outputId": "295f2d7a-fe97-4842-f4e2-243e9a36a28f"
      },
      "outputs": [
        {
          "output_type": "stream",
          "name": "stdout",
          "text": [
            "answer: 7110\n",
            "run time: 0.6884071826934814 (s)\n"
          ]
        }
      ],
      "source": [
        "import copy\n",
        "import ipdb\n",
        "import itertools\n",
        "import re\n",
        "import time\n",
        "\n",
        "from sympy.utilities.iterables import partitions\n",
        "\n",
        "class Row():\n",
        "  def __init__(self, springs: str, damage_counts: list[int]):\n",
        "    self.springs = springs\n",
        "    self.damage_counts = damage_counts\n",
        "    self.blocks = self._get_blocks()\n",
        "\n",
        "  def __repr__(self):\n",
        "    return f'{self.springs} {\",\".join(self.damage_counts)}'\n",
        "\n",
        "  def _get_blocks(self):\n",
        "    block_regex = r'[\\?\\#]+'\n",
        "    return [block for block in re.findall(block_regex, self.springs)]\n",
        "\n",
        "\n",
        "def get_input() -> list[str]:\n",
        "  if PART == 1:\n",
        "    input = TEST_INPUT1 if TEST else INPUT\n",
        "  else:\n",
        "    input = TEST_INPUT2 if TEST else INPUT\n",
        "\n",
        "  with open(input, 'r') as f:\n",
        "    rows = f.read().splitlines()\n",
        "  return rows\n",
        "\n",
        "\n",
        "def parse_map(input: list[str]) -> list[Row]:\n",
        "  map = []\n",
        "  row_regex = r'^([\\?\\#\\.]+) (([0-9]+,?)+)$'\n",
        "  for input_row in input:\n",
        "    m = re.match(row_regex, input_row)\n",
        "    map.append(Row(m.group(1), [int(c) for c in m.group(2).split(',')]))\n",
        "  return map\n",
        "\n",
        "\n",
        "def block_combinations(block: str) -> list[str]:\n",
        "  block_combinations = []\n",
        "\n",
        "  mystery_indexes = [m.start() for m in re.finditer(r'\\?', block)]\n",
        "  mystery_index_combinations = []\n",
        "  for i in range(len(mystery_indexes)+1):\n",
        "    mystery_index_combinations.extend(list(itertools.combinations(mystery_indexes, i)))\n",
        "\n",
        "  for mic in mystery_index_combinations:\n",
        "    temp_block = copy.copy(block).replace('?', '.')\n",
        "    for i in mic:\n",
        "      temp_block = temp_block[:i] + '#' + temp_block[i+1:]\n",
        "    block_combinations.append(temp_block)\n",
        "  return block_combinations\n",
        "\n",
        "def find_all_possible_matches(blocks: list[str], damage_counts: list[int], prev_matches: list[str] = []) -> int:\n",
        "  # Base case\n",
        "  print('===============')\n",
        "  print(f'blocks: {blocks}')\n",
        "  print(f'damage_counts: {damage_counts}')\n",
        "  if not damage_counts:\n",
        "    return 0\n",
        "\n",
        "  damage_string = '#' * damage_counts[0]\n",
        "\n",
        "  full_match_count = 0\n",
        "  #ipdb.set_trace()\n",
        "  for block in blocks:\n",
        "    print(f'block: {block}')\n",
        "    combinations = block_combinations(block)\n",
        "    for i in range(len(combinations)):\n",
        "      combination = combinations[i]\n",
        "      #ipdb.set_trace()\n",
        "      print(f'combination: {combination}')\n",
        "      print(f'{i} -- damage_string: {damage_string}')\n",
        "      match_index = combination.index(damage_string) if damage_string in combination else -1\n",
        "      if match_index >= 0:\n",
        "        print(f'partial match: {combination} - {damage_string}')\n",
        "        prev_matches.append((combination, damage_string))\n",
        "        if len(damage_counts) == 1:\n",
        "          print(f'!!MATCH!! - {prev_matches}')\n",
        "          full_match_count += 1\n",
        "        else:\n",
        "          subblock = block[match_index+len(damage_string):]\n",
        "          subblock = [subblock] if subblock else []\n",
        "          blocks_remainder = blocks[1:]\n",
        "          new_blocks  = subblock + blocks_remainder\n",
        "          print(f'new_blocks: {new_blocks}')\n",
        "          if new_blocks:\n",
        "            print(f'recurse1')\n",
        "            full_match_count += find_all_possible_matches(\n",
        "              [block[match_index+len(damage_string):]] + blocks[1:], damage_counts[1:], prev_matches)\n",
        "      else:\n",
        "        print(f'no match')\n",
        "        if len(blocks) > 1:\n",
        "          print(f'recurse2')\n",
        "          full_match_count += find_all_possible_matches(blocks[1:], copy.copy(damage_counts))\n",
        "  return full_match_count\n",
        "\n",
        "def possible_damage_strings(damage_counts: list[int], row_length: int) -> list[str]:\n",
        "  gap_count = len(damage_counts) -1\n",
        "  extra_spacers = row_length - (sum(damage_counts) + gap_count)\n",
        "\n",
        "  spacer_placements = []\n",
        "  spacer_placement_count = 2 + gap_count\n",
        "  ps = partitions(extra_spacers, m=spacer_placement_count)\n",
        "  for p in ps:\n",
        "    local_answer = []\n",
        "    for val, count in p.items():\n",
        "      local_answer.extend([val for i in range(count)])\n",
        "    local_answer = local_answer + [0] * (spacer_placement_count - len(local_answer))\n",
        "    local_answer = list(set(itertools.permutations(local_answer, spacer_placement_count)))\n",
        "    spacer_placements.extend(local_answer)\n",
        "\n",
        "  answers = []\n",
        "  for sp in spacer_placements:\n",
        "    answer = ''\n",
        "    for i, dc in enumerate(damage_counts):\n",
        "      if sp[i] > 0:\n",
        "        answer += ('.' * sp[i])\n",
        "      answer += ('#' * dc) + '.'\n",
        "    answer = answer[:-1]\n",
        "    if sp[-1] > 0:\n",
        "      answer += ('.' * sp[-1])\n",
        "    answers.append(answer)\n",
        "\n",
        "  return answers\n",
        "\n",
        "def get_matches(possible_damage_strings: list[str], row: str) -> int:\n",
        "  match_count = 0\n",
        "  for pds in possible_damage_strings:\n",
        "    pairs = zip(pds, row)\n",
        "    if all([(p == r or r == '?') for p, r in pairs]):\n",
        "      match_count += 1\n",
        "  return match_count\n",
        "\n",
        "start_time = time.time()\n",
        "input = get_input()\n",
        "map = parse_map(input)\n",
        "answer = 0\n",
        "for row in map:\n",
        "  possible_strings = possible_damage_strings(row.damage_counts, len(row.springs))\n",
        "  local_answer = get_matches(possible_strings, row.springs)\n",
        "  answer += local_answer\n",
        "print(f'answer: {answer}')\n",
        "end_time = time.time()\n",
        "print(f'run time: {end_time - start_time} (s)')"
      ]
    },
    {
      "cell_type": "code",
      "execution_count": null,
      "metadata": {
        "id": "R7FQ7GNIrGwq"
      },
      "outputs": [],
      "source": []
    }
  ],
  "metadata": {
    "colab": {
      "provenance": [],
      "authorship_tag": "ABX9TyPIDBv1I0ymeeX3Go3wUiza",
      "include_colab_link": true
    },
    "kernelspec": {
      "display_name": "Python 3",
      "name": "python3"
    },
    "language_info": {
      "name": "python"
    }
  },
  "nbformat": 4,
  "nbformat_minor": 0
}
