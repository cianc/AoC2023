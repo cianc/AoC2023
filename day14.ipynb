{
  "cells": [
    {
      "cell_type": "markdown",
      "metadata": {
        "id": "view-in-github",
        "colab_type": "text"
      },
      "source": [
        "<a href=\"https://colab.research.google.com/github/cianc/AoC2023/blob/main/day14.ipynb\" target=\"_parent\"><img src=\"https://colab.research.google.com/assets/colab-badge.svg\" alt=\"Open In Colab\"/></a>"
      ]
    },
    {
      "cell_type": "code",
      "execution_count": null,
      "metadata": {
        "id": "8kLfsIxGR85B"
      },
      "outputs": [],
      "source": [
        "!pip install -Uqq ipdb"
      ]
    },
    {
      "cell_type": "code",
      "execution_count": 89,
      "metadata": {
        "id": "Vrx0TlYZFJvO"
      },
      "outputs": [],
      "source": [
        "TEST = True #@param {type: \"boolean\"}\n",
        "TEST_INPUT1 = 'day14_test1.txt'\n",
        "TEST_INPUT2 = 'day14_test1.txt'\n",
        "INPUT = 'day14_input1.txt'\n",
        "PART=2 #@param {type: \"integer\"}"
      ]
    },
    {
      "cell_type": "markdown",
      "source": [
        "This is pretty disgusting, but it was fun doing it with bitmasks and binary operations."
      ],
      "metadata": {
        "id": "4w5B-nP5Y77w"
      }
    },
    {
      "cell_type": "code",
      "execution_count": 95,
      "metadata": {
        "colab": {
          "base_uri": "https://localhost:8080/"
        },
        "id": "yEKHeuXrrq6Y",
        "outputId": "7b0c6918-2a0f-4e4b-c6ff-c0ddfdbc3b70"
      },
      "outputs": [
        {
          "output_type": "stream",
          "name": "stdout",
          "text": [
            "O....#....\n",
            "O.OO#....#\n",
            ".....##...\n",
            "OO.#O....O\n",
            ".O.....O#.\n",
            "O.#..O.#.#\n",
            "..O..#O..O\n",
            ".......O..\n",
            "#....###..\n",
            "#OO..#....\n",
            "\n",
            "answer: 94\n",
            "run time: 39.49101901054382 (s)\n"
          ]
        }
      ],
      "source": [
        "import functools\n",
        "import ipdb\n",
        "import re\n",
        "import time\n",
        "\n",
        "\n",
        "def get_input() -> list[str]:\n",
        "  if PART == 1:\n",
        "    input = TEST_INPUT1 if TEST else INPUT\n",
        "  else:\n",
        "    input = TEST_INPUT2 if TEST else INPUT\n",
        "\n",
        "  with open(input, 'r') as f:\n",
        "    rows = f.read().splitlines()\n",
        "  return rows\n",
        "\n",
        "class Map():\n",
        "  def __init__(self, input: list[str]):\n",
        "    self.map = [[] for i in range(len(input[0]))]\n",
        "    for row in input:\n",
        "      for i, value in enumerate(row):\n",
        "        self.map[i].append(value)\n",
        "\n",
        "  def __str__(self):\n",
        "    return_string = ''\n",
        "    for y in range(len(self.map[0])):\n",
        "      for x in range(len(self.map)):\n",
        "        return_string += self.map[x][y]\n",
        "      return_string += '\\n'\n",
        "    return return_string\n",
        "\n",
        "  @functools.cache\n",
        "  def _shuffle_(self, row_or_col: tuple[str]) -> list[str]:\n",
        "    answer = list(row_or_col)\n",
        "    for tile_index, tile in enumerate(answer):\n",
        "      if tile == 'O':\n",
        "        path = ''.join(answer[:tile_index])\n",
        "        m = re.search(r'(\\.+)$', path)\n",
        "        open_spaces = len(m.group(1)) if m else 0\n",
        "        if open_spaces:\n",
        "          answer[tile_index - open_spaces] = 'O'\n",
        "          answer[tile_index] = '.'\n",
        "    return answer\n",
        "\n",
        "  def tilt(self, direction: str='north'):\n",
        "    if direction in ('north', 'south'):\n",
        "      for x, col in enumerate(self.map):\n",
        "        if direction == 'south':\n",
        "          col = col[::-1]\n",
        "        col = self._shuffle_(tuple(col))\n",
        "        if direction == 'south':\n",
        "          col = col[::-1]\n",
        "        self.map[x] = col\n",
        "\n",
        "    elif direction in ('west', 'east'):\n",
        "      for y in range(len(self.map[0])):\n",
        "        row = [m[y] for m in self.map]\n",
        "        if direction == 'east':\n",
        "          row = row[::-1]\n",
        "        row = self._shuffle_(tuple(row))\n",
        "        for tile_index, tile in enumerate(row):\n",
        "          self.map[tile_index][y] = tile\n",
        "\n",
        "  def cycle(self):\n",
        "    self.tilt('north')\n",
        "    self.tilt('west')\n",
        "    self.tilt('south')\n",
        "    self.tilt('east')\n",
        "\n",
        "  @property\n",
        "  def load(self):\n",
        "    load = 0\n",
        "    for col in self.map:\n",
        "      for tile_index, tile in enumerate(col):\n",
        "        if tile == 'O':\n",
        "          load += len(col) - tile_index\n",
        "    return load\n",
        "\n",
        "start_time = time.time()\n",
        "map = Map(get_input())\n",
        "print(map)\n",
        "if PART == 1:\n",
        "  map.tilt('north')\n",
        "else:\n",
        "  for i in range(1000000):\n",
        "    map.cycle()\n",
        "print(f'answer: {map.load}')\n",
        "print(f'run time: {time.time() - start_time} (s)')"
      ]
    }
  ],
  "metadata": {
    "colab": {
      "provenance": [],
      "authorship_tag": "ABX9TyOYIOpOdTW33NWY8snIYFng",
      "include_colab_link": true
    },
    "kernelspec": {
      "display_name": "Python 3",
      "name": "python3"
    },
    "language_info": {
      "name": "python"
    }
  },
  "nbformat": 4,
  "nbformat_minor": 0
}