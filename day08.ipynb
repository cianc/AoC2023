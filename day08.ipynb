{
  "nbformat": 4,
  "nbformat_minor": 0,
  "metadata": {
    "colab": {
      "provenance": [],
      "authorship_tag": "ABX9TyMzWn5lLuXjNPBrRAzTMEZC",
      "include_colab_link": true
    },
    "kernelspec": {
      "name": "python3",
      "display_name": "Python 3"
    },
    "language_info": {
      "name": "python"
    }
  },
  "cells": [
    {
      "cell_type": "markdown",
      "metadata": {
        "id": "view-in-github",
        "colab_type": "text"
      },
      "source": [
        "<a href=\"https://colab.research.google.com/github/cianc/AoC2023/blob/main/day08.ipynb\" target=\"_parent\"><img src=\"https://colab.research.google.com/assets/colab-badge.svg\" alt=\"Open In Colab\"/></a>"
      ]
    },
    {
      "cell_type": "code",
      "execution_count": 48,
      "metadata": {
        "id": "Vrx0TlYZFJvO"
      },
      "outputs": [],
      "source": [
        "TEST = False #@param {type: \"boolean\"}\n",
        "TEST_INPUT1 = 'day8_test2.txt'\n",
        "TEST_INPUT2 = 'day8_test3.txt'\n",
        "INPUT = 'day8_input1.txt'\n",
        "PART=2 #@param {type: \"integer\"}\n"
      ]
    },
    {
      "cell_type": "code",
      "source": [
        "import math\n",
        "import re\n",
        "import time\n",
        "\n",
        "def get_input() -> list[str]:\n",
        "  if PART == 1:\n",
        "    input = TEST_INPUT1 if TEST else INPUT\n",
        "  else:\n",
        "    input = TEST_INPUT2 if TEST else INPUT\n",
        "\n",
        "  with open(input, 'r') as f:\n",
        "    rows = f.read().splitlines()\n",
        "  return rows\n",
        "\n",
        "def parse_instructions(rows: list[str]) -> tuple[str, list[dict[str, tuple[str, str]]]]:\n",
        "  directions = rows[0].strip()\n",
        "\n",
        "  network = {}\n",
        "  network_re = r'([A-Z0-9]+) = \\(([A-Z0-9]+), ([A-Z0-9]+)\\)$'\n",
        "  for row in rows[1:]:\n",
        "    m = re.match(network_re, row)\n",
        "    if m:\n",
        "      network[m.group(1)] = (m.group(2), m.group(3))\n",
        "\n",
        "  return directions, network\n",
        "\n",
        "def count_steps(directions: list[str], network: list[dict[str, tuple[str, str]]], start: str, all_zeds: bool=True) -> int:\n",
        "\n",
        "  current_location = start\n",
        "\n",
        "  direction_index = -1\n",
        "  num_directions = len(directions)\n",
        "  num_steps = 0\n",
        "  while True:\n",
        "    if all_zeds and current_location == 'ZZZ':\n",
        "      return num_steps\n",
        "    elif current_location.endswith('Z'):\n",
        "      return num_steps\n",
        "\n",
        "    direction_index = (direction_index + 1) % num_directions\n",
        "    next_step = directions[direction_index]\n",
        "\n",
        "    current_location = network[current_location][0] if next_step == 'L' else network[current_location][1]\n",
        "    num_steps += 1\n",
        "\n",
        "def count_steps_in_parallel(directions: list[str], network: list[dict[str, tuple[str, str]]]) -> int:\n",
        "\n",
        "  starting_locations = [l for l in network.keys() if l.endswith('A')]\n",
        "  steps_to_finish = []\n",
        "  for l in starting_locations:\n",
        "    answer = count_steps(directions, network, l, False)\n",
        "    steps_to_finish.append(answer)\n",
        "\n",
        "  return math.lcm(*steps_to_finish)\n",
        "\n",
        "input = get_input()\n",
        "directions, network = parse_instructions(input)\n",
        "start_time = time.time()\n",
        "\n",
        "if PART == 1:\n",
        "  print(f'num_steps: {count_steps(directions, network, \"AAA\", True)}')\n",
        "else:\n",
        "  print(f'num_steps: {count_steps_in_parallel_sneaky(directions, network)}')\n",
        "\n",
        "end_time = time.time()\n",
        "print(f'run time: {end_time - start_time} (s)')"
      ],
      "metadata": {
        "id": "yEKHeuXrrq6Y"
      },
      "execution_count": null,
      "outputs": []
    }
  ]
}